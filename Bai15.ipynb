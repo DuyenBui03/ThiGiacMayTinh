{
 "cells": [
  {
   "cell_type": "code",
   "execution_count": 2,
   "id": "8aaaed52-2c77-4251-8c43-5b6c95fa9e52",
   "metadata": {},
   "outputs": [
    {
     "name": "stdout",
     "output_type": "stream",
     "text": [
      "Requirement already satisfied: scipy in h:\\thigiacmaytinh\\0101\\lib\\site-packages (1.14.1)\n",
      "Requirement already satisfied: numpy<2.3,>=1.23.5 in h:\\thigiacmaytinh\\0101\\lib\\site-packages (from scipy) (1.26.4)\n"
     ]
    },
    {
     "name": "stderr",
     "output_type": "stream",
     "text": [
      "WARNING: Skipping H:\\ThiGiacMayTinh\\0101\\Lib\\site-packages\\altair-5.0.1.dist-info due to invalid metadata entry 'name'\n",
      "WARNING: Skipping H:\\ThiGiacMayTinh\\0101\\Lib\\site-packages\\astropy-6.1.0.dist-info due to invalid metadata entry 'name'\n",
      "WARNING: Skipping H:\\ThiGiacMayTinh\\0101\\Lib\\site-packages\\datashader-0.16.2.dist-info due to invalid metadata entry 'name'\n",
      "WARNING: Skipping H:\\ThiGiacMayTinh\\0101\\Lib\\site-packages\\gensim-4.3.2.dist-info due to invalid metadata entry 'name'\n",
      "WARNING: Skipping H:\\ThiGiacMayTinh\\0101\\Lib\\site-packages\\holoviews-1.19.0.dist-info due to invalid metadata entry 'name'\n",
      "WARNING: Skipping H:\\ThiGiacMayTinh\\0101\\Lib\\site-packages\\hvplot-0.10.0.dist-info due to invalid metadata entry 'name'\n",
      "WARNING: Skipping H:\\ThiGiacMayTinh\\0101\\Lib\\site-packages\\imbalanced_learn-0.12.3.dist-info due to invalid metadata entry 'name'\n",
      "WARNING: Skipping H:\\ThiGiacMayTinh\\0101\\Lib\\site-packages\\panel-1.4.4.dist-info due to invalid metadata entry 'name'\n",
      "WARNING: Skipping H:\\ThiGiacMayTinh\\0101\\Lib\\site-packages\\scikit_image-0.23.2.dist-info due to invalid metadata entry 'name'\n",
      "WARNING: Skipping H:\\ThiGiacMayTinh\\0101\\Lib\\site-packages\\scikit_learn-1.4.2.dist-info due to invalid metadata entry 'name'\n",
      "WARNING: Skipping H:\\ThiGiacMayTinh\\0101\\Lib\\site-packages\\scipy-1.13.1.dist-info due to invalid metadata entry 'name'\n",
      "WARNING: Skipping H:\\ThiGiacMayTinh\\0101\\Lib\\site-packages\\seaborn-0.13.2.dist-info due to invalid metadata entry 'name'\n",
      "WARNING: Skipping H:\\ThiGiacMayTinh\\0101\\Lib\\site-packages\\altair-5.0.1.dist-info due to invalid metadata entry 'name'\n",
      "WARNING: Skipping H:\\ThiGiacMayTinh\\0101\\Lib\\site-packages\\astropy-6.1.0.dist-info due to invalid metadata entry 'name'\n",
      "WARNING: Skipping H:\\ThiGiacMayTinh\\0101\\Lib\\site-packages\\datashader-0.16.2.dist-info due to invalid metadata entry 'name'\n",
      "WARNING: Skipping H:\\ThiGiacMayTinh\\0101\\Lib\\site-packages\\gensim-4.3.2.dist-info due to invalid metadata entry 'name'\n",
      "WARNING: Skipping H:\\ThiGiacMayTinh\\0101\\Lib\\site-packages\\holoviews-1.19.0.dist-info due to invalid metadata entry 'name'\n",
      "WARNING: Skipping H:\\ThiGiacMayTinh\\0101\\Lib\\site-packages\\hvplot-0.10.0.dist-info due to invalid metadata entry 'name'\n",
      "WARNING: Skipping H:\\ThiGiacMayTinh\\0101\\Lib\\site-packages\\imbalanced_learn-0.12.3.dist-info due to invalid metadata entry 'name'\n",
      "WARNING: Skipping H:\\ThiGiacMayTinh\\0101\\Lib\\site-packages\\panel-1.4.4.dist-info due to invalid metadata entry 'name'\n",
      "WARNING: Skipping H:\\ThiGiacMayTinh\\0101\\Lib\\site-packages\\scikit_image-0.23.2.dist-info due to invalid metadata entry 'name'\n",
      "WARNING: Skipping H:\\ThiGiacMayTinh\\0101\\Lib\\site-packages\\scikit_learn-1.4.2.dist-info due to invalid metadata entry 'name'\n",
      "WARNING: Skipping H:\\ThiGiacMayTinh\\0101\\Lib\\site-packages\\scipy-1.13.1.dist-info due to invalid metadata entry 'name'\n",
      "WARNING: Skipping H:\\ThiGiacMayTinh\\0101\\Lib\\site-packages\\seaborn-0.13.2.dist-info due to invalid metadata entry 'name'\n",
      "WARNING: Skipping H:\\ThiGiacMayTinh\\0101\\Lib\\site-packages\\statsmodels-0.14.2.dist-info due to invalid metadata entry 'name'\n",
      "WARNING: Skipping H:\\ThiGiacMayTinh\\0101\\Lib\\site-packages\\streamlit-1.32.0.dist-info due to invalid metadata entry 'name'\n",
      "WARNING: Skipping H:\\ThiGiacMayTinh\\0101\\Lib\\site-packages\\tables-3.9.2.dist-info due to invalid metadata entry 'name'\n",
      "WARNING: Skipping H:\\ThiGiacMayTinh\\0101\\Lib\\site-packages\\tifffile-2023.4.12.dist-info due to invalid metadata entry 'name'\n",
      "WARNING: Skipping H:\\ThiGiacMayTinh\\0101\\Lib\\site-packages\\xarray-2023.6.0.dist-info due to invalid metadata entry 'name'\n",
      "WARNING: Skipping H:\\ThiGiacMayTinh\\0101\\Lib\\site-packages\\altair-5.0.1.dist-info due to invalid metadata entry 'name'\n",
      "WARNING: Skipping H:\\ThiGiacMayTinh\\0101\\Lib\\site-packages\\astropy-6.1.0.dist-info due to invalid metadata entry 'name'\n",
      "WARNING: Skipping H:\\ThiGiacMayTinh\\0101\\Lib\\site-packages\\datashader-0.16.2.dist-info due to invalid metadata entry 'name'\n",
      "WARNING: Skipping H:\\ThiGiacMayTinh\\0101\\Lib\\site-packages\\gensim-4.3.2.dist-info due to invalid metadata entry 'name'\n",
      "WARNING: Skipping H:\\ThiGiacMayTinh\\0101\\Lib\\site-packages\\holoviews-1.19.0.dist-info due to invalid metadata entry 'name'\n",
      "WARNING: Skipping H:\\ThiGiacMayTinh\\0101\\Lib\\site-packages\\hvplot-0.10.0.dist-info due to invalid metadata entry 'name'\n",
      "WARNING: Skipping H:\\ThiGiacMayTinh\\0101\\Lib\\site-packages\\imbalanced_learn-0.12.3.dist-info due to invalid metadata entry 'name'\n",
      "WARNING: Skipping H:\\ThiGiacMayTinh\\0101\\Lib\\site-packages\\panel-1.4.4.dist-info due to invalid metadata entry 'name'\n",
      "WARNING: Skipping H:\\ThiGiacMayTinh\\0101\\Lib\\site-packages\\scikit_image-0.23.2.dist-info due to invalid metadata entry 'name'\n",
      "WARNING: Skipping H:\\ThiGiacMayTinh\\0101\\Lib\\site-packages\\scikit_learn-1.4.2.dist-info due to invalid metadata entry 'name'\n",
      "WARNING: Skipping H:\\ThiGiacMayTinh\\0101\\Lib\\site-packages\\scipy-1.13.1.dist-info due to invalid metadata entry 'name'\n",
      "WARNING: Skipping H:\\ThiGiacMayTinh\\0101\\Lib\\site-packages\\seaborn-0.13.2.dist-info due to invalid metadata entry 'name'\n",
      "WARNING: Skipping H:\\ThiGiacMayTinh\\0101\\Lib\\site-packages\\statsmodels-0.14.2.dist-info due to invalid metadata entry 'name'\n",
      "WARNING: Skipping H:\\ThiGiacMayTinh\\0101\\Lib\\site-packages\\streamlit-1.32.0.dist-info due to invalid metadata entry 'name'\n",
      "WARNING: Skipping H:\\ThiGiacMayTinh\\0101\\Lib\\site-packages\\tables-3.9.2.dist-info due to invalid metadata entry 'name'\n",
      "WARNING: Skipping H:\\ThiGiacMayTinh\\0101\\Lib\\site-packages\\tifffile-2023.4.12.dist-info due to invalid metadata entry 'name'\n",
      "WARNING: Skipping H:\\ThiGiacMayTinh\\0101\\Lib\\site-packages\\xarray-2023.6.0.dist-info due to invalid metadata entry 'name'\n",
      "WARNING: Skipping H:\\ThiGiacMayTinh\\0101\\Lib\\site-packages\\altair-5.0.1.dist-info due to invalid metadata entry 'name'\n",
      "WARNING: Skipping H:\\ThiGiacMayTinh\\0101\\Lib\\site-packages\\astropy-6.1.0.dist-info due to invalid metadata entry 'name'\n",
      "WARNING: Skipping H:\\ThiGiacMayTinh\\0101\\Lib\\site-packages\\datashader-0.16.2.dist-info due to invalid metadata entry 'name'\n",
      "WARNING: Skipping H:\\ThiGiacMayTinh\\0101\\Lib\\site-packages\\gensim-4.3.2.dist-info due to invalid metadata entry 'name'\n",
      "WARNING: Skipping H:\\ThiGiacMayTinh\\0101\\Lib\\site-packages\\holoviews-1.19.0.dist-info due to invalid metadata entry 'name'\n",
      "WARNING: Skipping H:\\ThiGiacMayTinh\\0101\\Lib\\site-packages\\hvplot-0.10.0.dist-info due to invalid metadata entry 'name'\n",
      "WARNING: Skipping H:\\ThiGiacMayTinh\\0101\\Lib\\site-packages\\imbalanced_learn-0.12.3.dist-info due to invalid metadata entry 'name'\n",
      "WARNING: Skipping H:\\ThiGiacMayTinh\\0101\\Lib\\site-packages\\panel-1.4.4.dist-info due to invalid metadata entry 'name'\n",
      "WARNING: Skipping H:\\ThiGiacMayTinh\\0101\\Lib\\site-packages\\scikit_image-0.23.2.dist-info due to invalid metadata entry 'name'\n",
      "WARNING: Skipping H:\\ThiGiacMayTinh\\0101\\Lib\\site-packages\\scikit_learn-1.4.2.dist-info due to invalid metadata entry 'name'\n",
      "WARNING: Skipping H:\\ThiGiacMayTinh\\0101\\Lib\\site-packages\\scipy-1.13.1.dist-info due to invalid metadata entry 'name'\n",
      "WARNING: Skipping H:\\ThiGiacMayTinh\\0101\\Lib\\site-packages\\seaborn-0.13.2.dist-info due to invalid metadata entry 'name'\n",
      "WARNING: Skipping H:\\ThiGiacMayTinh\\0101\\Lib\\site-packages\\altair-5.0.1.dist-info due to invalid metadata entry 'name'\n",
      "WARNING: Skipping H:\\ThiGiacMayTinh\\0101\\Lib\\site-packages\\astropy-6.1.0.dist-info due to invalid metadata entry 'name'\n",
      "WARNING: Skipping H:\\ThiGiacMayTinh\\0101\\Lib\\site-packages\\datashader-0.16.2.dist-info due to invalid metadata entry 'name'\n",
      "WARNING: Skipping H:\\ThiGiacMayTinh\\0101\\Lib\\site-packages\\gensim-4.3.2.dist-info due to invalid metadata entry 'name'\n",
      "WARNING: Skipping H:\\ThiGiacMayTinh\\0101\\Lib\\site-packages\\holoviews-1.19.0.dist-info due to invalid metadata entry 'name'\n",
      "WARNING: Skipping H:\\ThiGiacMayTinh\\0101\\Lib\\site-packages\\hvplot-0.10.0.dist-info due to invalid metadata entry 'name'\n",
      "WARNING: Skipping H:\\ThiGiacMayTinh\\0101\\Lib\\site-packages\\imbalanced_learn-0.12.3.dist-info due to invalid metadata entry 'name'\n",
      "WARNING: Skipping H:\\ThiGiacMayTinh\\0101\\Lib\\site-packages\\panel-1.4.4.dist-info due to invalid metadata entry 'name'\n",
      "WARNING: Skipping H:\\ThiGiacMayTinh\\0101\\Lib\\site-packages\\altair-5.0.1.dist-info due to invalid metadata entry 'name'\n",
      "WARNING: Skipping H:\\ThiGiacMayTinh\\0101\\Lib\\site-packages\\astropy-6.1.0.dist-info due to invalid metadata entry 'name'\n",
      "WARNING: Skipping H:\\ThiGiacMayTinh\\0101\\Lib\\site-packages\\datashader-0.16.2.dist-info due to invalid metadata entry 'name'\n",
      "WARNING: Skipping H:\\ThiGiacMayTinh\\0101\\Lib\\site-packages\\gensim-4.3.2.dist-info due to invalid metadata entry 'name'\n",
      "WARNING: Skipping H:\\ThiGiacMayTinh\\0101\\Lib\\site-packages\\holoviews-1.19.0.dist-info due to invalid metadata entry 'name'\n",
      "WARNING: Skipping H:\\ThiGiacMayTinh\\0101\\Lib\\site-packages\\hvplot-0.10.0.dist-info due to invalid metadata entry 'name'\n",
      "WARNING: Skipping H:\\ThiGiacMayTinh\\0101\\Lib\\site-packages\\imbalanced_learn-0.12.3.dist-info due to invalid metadata entry 'name'\n",
      "WARNING: Skipping H:\\ThiGiacMayTinh\\0101\\Lib\\site-packages\\panel-1.4.4.dist-info due to invalid metadata entry 'name'\n"
     ]
    }
   ],
   "source": [
    "#!pip install scipy"
   ]
  },
  {
   "cell_type": "code",
   "execution_count": 3,
   "id": "bdb6bb21-6fd5-4ed4-bdf2-7af04d6d92b8",
   "metadata": {},
   "outputs": [],
   "source": [
    "from scipy import linalg\n",
    "import numpy as np"
   ]
  },
  {
   "cell_type": "code",
   "execution_count": 17,
   "id": "6735d515-769e-4e48-ac10-45a258f09058",
   "metadata": {},
   "outputs": [
    {
     "name": "stdout",
     "output_type": "stream",
     "text": [
      "Kết quả:  [1.44444444 1.11111111 0.66666667]\n"
     ]
    }
   ],
   "source": [
    "# Định nghĩa hệ phương trình tuyến tính\n",
    "A = np.array([[1, 2, -1],\n",
    "              [2, 4, 1],\n",
    "              [-1, 1, 2]])\n",
    "b = np.array([3, 8, 1])\n",
    "\n",
    "# Giải hệ phương trình tuyến tính\n",
    "x = linalg.solve(A, b)\n",
    "print(\"Kết quả: \", x)"
   ]
  },
  {
   "cell_type": "code",
   "execution_count": 9,
   "id": "18558e58-ab9d-4f8c-956f-8dfbedceca2a",
   "metadata": {},
   "outputs": [
    {
     "name": "stdout",
     "output_type": "stream",
     "text": [
      "Tích phân f(x) từ 0 đến 1:  (0.33333333333333337, 3.700743415417189e-15)\n"
     ]
    }
   ],
   "source": [
    "# Tính tích phân của một hàm số\n",
    "from scipy import integrate\n",
    "\n",
    "# Định nghĩa f(x) = x^2\n",
    "def my_function(x):\n",
    "    return x**2;\n",
    "\n",
    "# Tính tích phân của f(x) từ 0 đến 1\n",
    "integral = integrate.quad(my_function, 0,1);\n",
    "print (\"Tích phân f(x) từ 0 đến 1: \", integral)"
   ]
  },
  {
   "cell_type": "code",
   "execution_count": 16,
   "id": "5aaf04fa-362f-4c2d-b526-e2dd913e72a7",
   "metadata": {},
   "outputs": [
    {
     "name": "stdout",
     "output_type": "stream",
     "text": [
      "Giá trị riêng:  [ 1.61168440e+01+0.j -1.11684397e+00+0.j -9.75918483e-16+0.j]\n",
      "Vector riêng:  [[-0.23197069 -0.78583024  0.40824829]\n",
      " [-0.52532209 -0.08675134 -0.81649658]\n",
      " [-0.8186735   0.61232756  0.40824829]]\n"
     ]
    }
   ],
   "source": [
    "from scipy import linalg\n",
    "import numpy as np\n",
    "\n",
    "# Tính giá trị riêng vector riêng của một ma trận\n",
    "A =  np.array([[1, 2, 3],\n",
    "              [4, 5, 6],\n",
    "              [7, 8, 9]])\n",
    "\n",
    "# Tính giá trị riêng và vector riêng:\n",
    "evals, evecs = linalg.eig(A)\n",
    "\n",
    "print(\"Giá trị riêng: \", evals)\n",
    "print(\"Vector riêng: \", evecs)"
   ]
  },
  {
   "cell_type": "code",
   "execution_count": null,
   "id": "657c7667-39c8-4bc7-b1da-1e357d6bc6ae",
   "metadata": {},
   "outputs": [],
   "source": []
  }
 ],
 "metadata": {
  "kernelspec": {
   "display_name": "Python 3 (ipykernel)",
   "language": "python",
   "name": "python3"
  },
  "language_info": {
   "codemirror_mode": {
    "name": "ipython",
    "version": 3
   },
   "file_extension": ".py",
   "mimetype": "text/x-python",
   "name": "python",
   "nbconvert_exporter": "python",
   "pygments_lexer": "ipython3",
   "version": "3.12.4"
  }
 },
 "nbformat": 4,
 "nbformat_minor": 5
}
