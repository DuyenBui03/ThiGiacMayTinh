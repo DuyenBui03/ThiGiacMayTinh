{
 "cells": [
  {
   "cell_type": "code",
   "execution_count": 2,
   "id": "7f577591-736e-4fab-984c-00f497707d6e",
   "metadata": {},
   "outputs": [],
   "source": [
    "import cv2\n",
    "import time"
   ]
  },
  {
   "cell_type": "code",
   "execution_count": 3,
   "id": "8231910c-cbc0-403b-9192-60dd5735788f",
   "metadata": {},
   "outputs": [],
   "source": [
    "# Đọc video từ file\n",
    "camera = cv2.VideoCapture(0)"
   ]
  },
  {
   "cell_type": "code",
   "execution_count": 4,
   "id": "8df895ac-1419-466b-a713-226e191d8609",
   "metadata": {},
   "outputs": [],
   "source": [
    "# Tạo cửa sổ để hiển thị\n",
    "cv2.namedWindow('Video Player', cv2.WINDOW_NORMAL)\n",
    "interval = 20\n",
    "count = 0"
   ]
  },
  {
   "cell_type": "code",
   "execution_count": 5,
   "id": "91425e68-e74e-4683-90b5-9374087ba4ef",
   "metadata": {},
   "outputs": [],
   "source": [
    "# Ghi text trên hình ảnh\n",
    "font = cv2.FONT_HERSHEY_SIMPLEX\n",
    "font_color = (255, 255, 255)\n",
    "font_scale = 2\n",
    "font_thicknes = 2"
   ]
  },
  {
   "cell_type": "code",
   "execution_count": 7,
   "id": "48966b05-64ff-4a55-ae32-720f11a53d4c",
   "metadata": {},
   "outputs": [],
   "source": [
    "# Hiển thị từng khung ảnh\n",
    "while True:\n",
    "    # Thời gian trước khi đọc\n",
    "    start_time = time.time()\n",
    "    \n",
    "    # Đọc 1 frame\n",
    "    ret, frame = camera.read()\n",
    "\n",
    "    #Tăng count + 1\n",
    "    count = count + 1\n",
    "    if(count%interval==0):\n",
    "       cv2.imwrite(f'H:/ThiGiacMayTinh/0101/img/imageAAA_{count}.jpg', frame)\n",
    "    \n",
    "    # Thoát khi không thể đọc được frame\n",
    "    if not ret:\n",
    "        break\n",
    "    \n",
    "    # Thời gian sau khi đọc\n",
    "    end_time = time.time()\n",
    "    \n",
    "    # Tính FPS, kiểm tra nếu thời gian chênh lệch > 0\n",
    "    elapsed_time = end_time - start_time\n",
    "    if elapsed_time > 0:\n",
    "        fps = 1 / elapsed_time\n",
    "    else:\n",
    "        fps = 0\n",
    "    \n",
    "    # Ghi số lượng fps\n",
    "    cv2.putText(frame, f'FPS: {fps:.2f}', (100, 100), font, font_scale, font_color, font_thicknes)\n",
    "    \n",
    "    # Hiển thị\n",
    "    cv2.imshow('Video Player', frame)\n",
    "    \n",
    "    # Thoát khi nhấn phím 'q'\n",
    "    if cv2.waitKey(10) == ord('q'):\n",
    "        break\n",
    "        "
   ]
  },
  {
   "cell_type": "code",
   "execution_count": 8,
   "id": "f5e407e2-36fe-4714-acc0-b9d60a064654",
   "metadata": {},
   "outputs": [],
   "source": [
    "# Hủy bỏ player\n",
    "camera.release()\n",
    "cv2.destroyAllWindows()"
   ]
  },
  {
   "cell_type": "code",
   "execution_count": 9,
   "id": "e85dd205-df6b-46c5-85ec-055ec6f340f6",
   "metadata": {
    "scrolled": true
   },
   "outputs": [
    {
     "name": "stdout",
     "output_type": "stream",
     "text": [
      "C:\\Users\\ADMIN\\baitap\n"
     ]
    }
   ],
   "source": [
    "import os\n",
    "print(os.getcwd())  # In ra thư mục hiện tại"
   ]
  },
  {
   "cell_type": "code",
   "execution_count": null,
   "id": "030e1543-9a8b-4b61-bda3-0d788c6c716f",
   "metadata": {},
   "outputs": [],
   "source": []
  }
 ],
 "metadata": {
  "kernelspec": {
   "display_name": "Python 3 (ipykernel)",
   "language": "python",
   "name": "python3"
  },
  "language_info": {
   "codemirror_mode": {
    "name": "ipython",
    "version": 3
   },
   "file_extension": ".py",
   "mimetype": "text/x-python",
   "name": "python",
   "nbconvert_exporter": "python",
   "pygments_lexer": "ipython3",
   "version": "3.12.4"
  }
 },
 "nbformat": 4,
 "nbformat_minor": 5
}
