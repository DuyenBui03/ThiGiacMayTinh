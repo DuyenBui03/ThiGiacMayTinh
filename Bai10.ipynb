{
 "cells": [
  {
   "cell_type": "code",
   "execution_count": 2,
   "id": "98838d35-352a-48c4-b86a-71836411ee14",
   "metadata": {},
   "outputs": [],
   "source": [
    "# import thư viện\n",
    "from PIL import Image\n",
    "import matplotlib.pyplot as plt"
   ]
  },
  {
   "cell_type": "code",
   "execution_count": 7,
   "id": "07c47766-0fce-4678-a1d9-a58457a321a4",
   "metadata": {},
   "outputs": [
    {
     "name": "stdout",
     "output_type": "stream",
     "text": [
      "[(151.64069264069258, 63.5151515151515), (486.34848484848476, 76.31818181818176), (137.0086580086579, 385.4199134199134), (546.7056277056276, 416.51298701298697), (330.8831168831168, 389.07792207792204)]\n"
     ]
    }
   ],
   "source": [
    "# Đường dẫn ảnh\n",
    "my_path = 'H:/ThiGiacMayTinh/0101/img/6.JPG'\n",
    "#Đọc ảnh\n",
    "im = Image.open(my_path)\n",
    "# Chuyển đổi backend\n",
    "plt.switch_backend('tkagg')\n",
    "# Hiển thị ảnh\n",
    "plt.imshow(im)\n",
    "plt.title(\"Click on the image to select points\")\n",
    "# Sử dụng hàm ginput để chọn điểm trên ảnh\n",
    "points = plt.ginput(5)\n",
    "print(points)\n",
    "# Hiển thị\n",
    "plt.show()"
   ]
  },
  {
   "cell_type": "code",
   "execution_count": null,
   "id": "513dabe7-0f44-4a29-82cd-dd596d48a967",
   "metadata": {},
   "outputs": [],
   "source": [
    "# Vẽ lại các điểm đã chọn bằng dấu * màu đỏ\n",
    "plt.close()\n",
    "# Vẽ lại\n",
    "plt.imshow(im)\n",
    "for point in points:\n",
    "    x, y = point\n",
    "    plt.plot(x,y, 'r*')\n",
    "plt.show()"
   ]
  },
  {
   "cell_type": "code",
   "execution_count": null,
   "id": "0c9d4a83-18d5-40d2-989e-997298b7b9eb",
   "metadata": {},
   "outputs": [],
   "source": []
  }
 ],
 "metadata": {
  "kernelspec": {
   "display_name": "Python 3 (ipykernel)",
   "language": "python",
   "name": "python3"
  },
  "language_info": {
   "codemirror_mode": {
    "name": "ipython",
    "version": 3
   },
   "file_extension": ".py",
   "mimetype": "text/x-python",
   "name": "python",
   "nbconvert_exporter": "python",
   "pygments_lexer": "ipython3",
   "version": "3.12.4"
  }
 },
 "nbformat": 4,
 "nbformat_minor": 5
}
